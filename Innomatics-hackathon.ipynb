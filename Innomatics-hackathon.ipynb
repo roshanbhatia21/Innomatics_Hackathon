{
 "cells": [
  {
   "cell_type": "markdown",
   "metadata": {},
   "source": [
    "### ROSHAN BHATIA\n",
    "7374093589"
   ]
  },
  {
   "cell_type": "code",
   "execution_count": 1,
   "metadata": {},
   "outputs": [],
   "source": [
    "import pandas as pd\n",
    "import numpy as np"
   ]
  },
  {
   "cell_type": "markdown",
   "metadata": {},
   "source": [
    "#### IMPORTING XLSX FILE"
   ]
  },
  {
   "cell_type": "code",
   "execution_count": 2,
   "metadata": {},
   "outputs": [],
   "source": [
    "df = pd.read_excel(\"uber_rides_data.xlsx\")"
   ]
  },
  {
   "cell_type": "markdown",
   "metadata": {},
   "source": [
    "#### Q1. What is the shape of given dataset?\n"
   ]
  },
  {
   "cell_type": "code",
   "execution_count": 3,
   "metadata": {},
   "outputs": [
    {
     "data": {
      "text/plain": [
       "(200000, 8)"
      ]
     },
     "execution_count": 3,
     "metadata": {},
     "output_type": "execute_result"
    }
   ],
   "source": [
    "df.shape"
   ]
  },
  {
   "cell_type": "markdown",
   "metadata": {},
   "source": [
    "#### Q2. How many integer columns(by default) are given in the dataset?\n"
   ]
  },
  {
   "cell_type": "code",
   "execution_count": 4,
   "metadata": {},
   "outputs": [
    {
     "name": "stdout",
     "output_type": "stream",
     "text": [
      "Number of integer columns: 2\n"
     ]
    }
   ],
   "source": [
    "column_data_types = df.dtypes\n",
    "\n",
    "integer_columns = column_data_types[column_data_types == 'int64']\n",
    "\n",
    "num_integer_columns = len(integer_columns)\n",
    "\n",
    "print(\"Number of integer columns:\", num_integer_columns)"
   ]
  },
  {
   "cell_type": "markdown",
   "metadata": {},
   "source": [
    "#### Q3. How many missing values exists in 'dropoff_longitude' column?\n"
   ]
  },
  {
   "cell_type": "code",
   "execution_count": 5,
   "metadata": {},
   "outputs": [
    {
     "name": "stdout",
     "output_type": "stream",
     "text": [
      "Number of missing values in 'dropoff_longitude' column: 1\n"
     ]
    }
   ],
   "source": [
    "missing_values = df['dropoff_longitude'].isnull().sum()\n",
    "\n",
    "print(\"Number of missing values in 'dropoff_longitude' column:\", missing_values)"
   ]
  },
  {
   "cell_type": "markdown",
   "metadata": {},
   "source": [
    "# Q4. What is the data type of ' pickup_datetime' feature in your data?\n",
    " "
   ]
  },
  {
   "cell_type": "code",
   "execution_count": 6,
   "metadata": {},
   "outputs": [
    {
     "name": "stdout",
     "output_type": "stream",
     "text": [
      "Data type of 'pickup_datetime' feature: object\n"
     ]
    }
   ],
   "source": [
    "pickup_datetime_dtype = df['pickup_datetime'].dtype\n",
    "\n",
    "print(\"Data type of 'pickup_datetime' feature:\", pickup_datetime_dtype)"
   ]
  },
  {
   "cell_type": "markdown",
   "metadata": {},
   "source": [
    "#### Q5. Which of the following is the correct syntax to convert 'pickup_datetime' to datetime datatype?"
   ]
  },
  {
   "cell_type": "markdown",
   "metadata": {},
   "source": [
    " Correct syntax to convert 'pickup_datetime' to datetime datatype :"
   ]
  },
  {
   "cell_type": "code",
   "execution_count": 7,
   "metadata": {},
   "outputs": [],
   "source": [
    "# pd.to_datetime(df['pickup_datetime'])"
   ]
  },
  {
   "cell_type": "markdown",
   "metadata": {},
   "source": [
    "#### Q6. Which function can be used to remove null values from the dataframe?"
   ]
  },
  {
   "cell_type": "code",
   "execution_count": 8,
   "metadata": {},
   "outputs": [],
   "source": [
    "df_cleaned = df.dropna()"
   ]
  },
  {
   "cell_type": "markdown",
   "metadata": {},
   "source": [
    "Cleaned dataframe:"
   ]
  },
  {
   "cell_type": "code",
   "execution_count": 9,
   "metadata": {},
   "outputs": [
    {
     "data": {
      "text/html": [
       "<div>\n",
       "<style scoped>\n",
       "    .dataframe tbody tr th:only-of-type {\n",
       "        vertical-align: middle;\n",
       "    }\n",
       "\n",
       "    .dataframe tbody tr th {\n",
       "        vertical-align: top;\n",
       "    }\n",
       "\n",
       "    .dataframe thead th {\n",
       "        text-align: right;\n",
       "    }\n",
       "</style>\n",
       "<table border=\"1\" class=\"dataframe\">\n",
       "  <thead>\n",
       "    <tr style=\"text-align: right;\">\n",
       "      <th></th>\n",
       "      <th>ride_id</th>\n",
       "      <th>fare_amount</th>\n",
       "      <th>pickup_datetime</th>\n",
       "      <th>pickup_longitude</th>\n",
       "      <th>pickup_latitude</th>\n",
       "      <th>dropoff_longitude</th>\n",
       "      <th>dropoff_latitude</th>\n",
       "      <th>passenger_count</th>\n",
       "    </tr>\n",
       "  </thead>\n",
       "  <tbody>\n",
       "    <tr>\n",
       "      <th>0</th>\n",
       "      <td>24238194</td>\n",
       "      <td>7.5</td>\n",
       "      <td>2015-05-07 19:52:06 UTC</td>\n",
       "      <td>-73.999817</td>\n",
       "      <td>40.738354</td>\n",
       "      <td>-73.999512</td>\n",
       "      <td>40.723217</td>\n",
       "      <td>1</td>\n",
       "    </tr>\n",
       "    <tr>\n",
       "      <th>1</th>\n",
       "      <td>27835199</td>\n",
       "      <td>7.7</td>\n",
       "      <td>2009-07-17 20:04:56 UTC</td>\n",
       "      <td>-73.994355</td>\n",
       "      <td>40.728225</td>\n",
       "      <td>-73.994710</td>\n",
       "      <td>40.750325</td>\n",
       "      <td>1</td>\n",
       "    </tr>\n",
       "    <tr>\n",
       "      <th>2</th>\n",
       "      <td>44984355</td>\n",
       "      <td>12.9</td>\n",
       "      <td>2009-08-24 21:45:00 UTC</td>\n",
       "      <td>-74.005043</td>\n",
       "      <td>40.740770</td>\n",
       "      <td>-73.962565</td>\n",
       "      <td>40.772647</td>\n",
       "      <td>1</td>\n",
       "    </tr>\n",
       "    <tr>\n",
       "      <th>3</th>\n",
       "      <td>25894730</td>\n",
       "      <td>5.3</td>\n",
       "      <td>2009-06-26 08:22:21 UTC</td>\n",
       "      <td>-73.976124</td>\n",
       "      <td>40.790844</td>\n",
       "      <td>-73.965316</td>\n",
       "      <td>40.803349</td>\n",
       "      <td>3</td>\n",
       "    </tr>\n",
       "    <tr>\n",
       "      <th>4</th>\n",
       "      <td>17610152</td>\n",
       "      <td>16.0</td>\n",
       "      <td>2014-08-28 17:47:00 UTC</td>\n",
       "      <td>-73.925023</td>\n",
       "      <td>40.744085</td>\n",
       "      <td>-73.973082</td>\n",
       "      <td>40.761247</td>\n",
       "      <td>5</td>\n",
       "    </tr>\n",
       "  </tbody>\n",
       "</table>\n",
       "</div>"
      ],
      "text/plain": [
       "    ride_id  fare_amount          pickup_datetime  pickup_longitude  \\\n",
       "0  24238194          7.5  2015-05-07 19:52:06 UTC        -73.999817   \n",
       "1  27835199          7.7  2009-07-17 20:04:56 UTC        -73.994355   \n",
       "2  44984355         12.9  2009-08-24 21:45:00 UTC        -74.005043   \n",
       "3  25894730          5.3  2009-06-26 08:22:21 UTC        -73.976124   \n",
       "4  17610152         16.0  2014-08-28 17:47:00 UTC        -73.925023   \n",
       "\n",
       "   pickup_latitude  dropoff_longitude  dropoff_latitude  passenger_count  \n",
       "0        40.738354         -73.999512         40.723217                1  \n",
       "1        40.728225         -73.994710         40.750325                1  \n",
       "2        40.740770         -73.962565         40.772647                1  \n",
       "3        40.790844         -73.965316         40.803349                3  \n",
       "4        40.744085         -73.973082         40.761247                5  "
      ]
     },
     "execution_count": 9,
     "metadata": {},
     "output_type": "execute_result"
    }
   ],
   "source": [
    "df_cleaned.head()"
   ]
  },
  {
   "cell_type": "markdown",
   "metadata": {},
   "source": [
    "#### Q7. What is the average fare amount?\n"
   ]
  },
  {
   "cell_type": "code",
   "execution_count": 10,
   "metadata": {},
   "outputs": [
    {
     "name": "stdout",
     "output_type": "stream",
     "text": [
      "Average fare amount: 11.359891549458371\n"
     ]
    }
   ],
   "source": [
    "average_fare_amount = df_cleaned['fare_amount'].mean()\n",
    "\n",
    "print(\"Average fare amount:\", average_fare_amount)"
   ]
  },
  {
   "cell_type": "markdown",
   "metadata": {},
   "source": [
    "#### Q8 .Calculate distance between each pickup and dropoff points using Haversine formula. \n"
   ]
  },
  {
   "cell_type": "markdown",
   "metadata": {},
   "source": [
    "#### What is the median haversine distance between pickup and dropoff location according to the given dataset?"
   ]
  },
  {
   "cell_type": "code",
   "execution_count": 11,
   "metadata": {},
   "outputs": [],
   "source": [
    "#function to calculate Haversine distance\n",
    "def haversine(lat1, lon1, lat2, lon2):\n",
    "    lat1, lon1, lat2, lon2 = map(np.radians, [lat1, lon1, lat2, lon2])\n",
    "\n",
    "    # Haversine formula\n",
    "    dlon = lon2 - lon1\n",
    "    dlat = lat2 - lat1\n",
    "    a = np.sin(dlat / 2) ** 2 + np.cos(lat1) * np.cos(lat2) * np.sin(dlon / 2) ** 2\n",
    "    c = 2 * np.arcsin(np.sqrt(a))\n",
    "    r = 6371  # Radius of Earth in kilometers\n",
    "    return c * r"
   ]
  },
  {
   "cell_type": "code",
   "execution_count": 12,
   "metadata": {},
   "outputs": [
    {
     "name": "stdout",
     "output_type": "stream",
     "text": [
      "Median Haversine distance between pickup and dropoff locations: 2.120992396182902 kilometers\n"
     ]
    },
    {
     "name": "stderr",
     "output_type": "stream",
     "text": [
      "<ipython-input-12-9694d3b031be>:1: SettingWithCopyWarning: \n",
      "A value is trying to be set on a copy of a slice from a DataFrame.\n",
      "Try using .loc[row_indexer,col_indexer] = value instead\n",
      "\n",
      "See the caveats in the documentation: https://pandas.pydata.org/pandas-docs/stable/user_guide/indexing.html#returning-a-view-versus-a-copy\n",
      "  df_cleaned['haversine_distance'] = df_cleaned.apply(lambda row: haversine(row['pickup_latitude'], row['pickup_longitude'],\n"
     ]
    }
   ],
   "source": [
    "df_cleaned['haversine_distance'] = df_cleaned.apply(lambda row: haversine(row['pickup_latitude'], row['pickup_longitude'],\n",
    "                                                          row['dropoff_latitude'], row['dropoff_longitude']), axis=1)\n",
    "\n",
    "median_haversine_distance = df_cleaned['haversine_distance'].median()\n",
    "\n",
    "print(\"Median Haversine distance between pickup and dropoff locations:\", median_haversine_distance, \"kilometers\")"
   ]
  },
  {
   "cell_type": "markdown",
   "metadata": {},
   "source": [
    "#### Q9. What is the maximum haversine distance between pickup and dropoff location according to the given dataset?"
   ]
  },
  {
   "cell_type": "code",
   "execution_count": 13,
   "metadata": {},
   "outputs": [
    {
     "name": "stdout",
     "output_type": "stream",
     "text": [
      "Maximum Haversine distance between pickup and dropoff locations: 16409.239135313168 kilometers\n"
     ]
    }
   ],
   "source": [
    "max_haversine_distance =df_cleaned['haversine_distance'].max()\n",
    "\n",
    "print(\"Maximum Haversine distance between pickup and dropoff locations:\", max_haversine_distance, \"kilometers\")"
   ]
  },
  {
   "cell_type": "markdown",
   "metadata": {},
   "source": [
    "#### Q10. How many rides have 0.0 haversine distance between pickup and dropoff location according to the given dataset?"
   ]
  },
  {
   "cell_type": "code",
   "execution_count": 14,
   "metadata": {},
   "outputs": [
    {
     "name": "stdout",
     "output_type": "stream",
     "text": [
      "Number of rides with 0.0 Haversine distance between pickup and dropoff locations: 5632\n"
     ]
    }
   ],
   "source": [
    "zero_distance_rides =  df_cleaned[df_cleaned['haversine_distance'] == 0.0]\n",
    "num_zero_distance_rides = len(zero_distance_rides)\n",
    "\n",
    "print(\"Number of rides with 0.0 Haversine distance between pickup and dropoff locations:\", num_zero_distance_rides)"
   ]
  },
  {
   "cell_type": "markdown",
   "metadata": {},
   "source": [
    "#### Q11. What is the mean 'fare_amount' for rides with 0 haversine distance?"
   ]
  },
  {
   "cell_type": "code",
   "execution_count": 15,
   "metadata": {},
   "outputs": [
    {
     "name": "stdout",
     "output_type": "stream",
     "text": [
      "Mean 'fare_amount' for rides with 0.0 Haversine distance: 11.585317826704578\n"
     ]
    }
   ],
   "source": [
    "zero_distance_rides =  df_cleaned[ df_cleaned['haversine_distance'] == 0.0]\n",
    "\n",
    "mean_fare_amount_for_zero_distance_rides = zero_distance_rides['fare_amount'].mean()\n",
    "\n",
    "print(\"Mean 'fare_amount' for rides with 0.0 Haversine distance:\", mean_fare_amount_for_zero_distance_rides)"
   ]
  },
  {
   "cell_type": "markdown",
   "metadata": {},
   "source": [
    "#### Do you sense something fishy? Try to analyze, and give your expert opinion in Jupyter Notebook."
   ]
  },
  {
   "cell_type": "markdown",
   "metadata": {},
   "source": [
    "Indeed, the difference in the mean fare amounts for rides with a Haversine distance of 0.0 (11.59) compared to the overall mean fare (11.35) does raise some suspicion. This difference suggests that there might be some inconsistency or anomaly in the data.\n",
    "\n",
    "Here are a few possibilities to consider and further investigate:\n",
    "\n",
    "1. Data Entry Errors: There could be data entry errors or inconsistencies in the dataset. Some rides might have been recorded with incorrect coordinates or fares.\n",
    "\n",
    "2. Short Trips: Rides with 0.0 Haversine distance could represent very short trips, such as rides that start and end at the same location (e.g., within a parking lot or around a block). These trips might have a flat-rate or minimum fare, which could explain the higher mean fare for such trips.\n",
    "\n",
    "3. Outliers: There may be outliers in the 'fare_amount' column for rides with 0.0 Haversine distance. A few exceptionally high fares for short trips could significantly affect the mean.\n",
    "\n",
    "4. Data Preprocessing: It's possible that during data preprocessing or feature engineering, certain adjustments or transformations were applied to the fare data for these specific rides."
   ]
  },
  {
   "cell_type": "markdown",
   "metadata": {},
   "source": [
    "#### Q11. What is the maximum 'fare_amount' for a ride?\n"
   ]
  },
  {
   "cell_type": "code",
   "execution_count": 16,
   "metadata": {},
   "outputs": [
    {
     "name": "stdout",
     "output_type": "stream",
     "text": [
      "Maximum 'fare_amount' for a ride: 499.0\n"
     ]
    }
   ],
   "source": [
    "max_fare_amount = df_cleaned['fare_amount'].max()\n",
    "\n",
    "print(\"Maximum 'fare_amount' for a ride:\", max_fare_amount)"
   ]
  },
  {
   "cell_type": "markdown",
   "metadata": {},
   "source": [
    "#### Q12. What is the haversine distance between pickup and dropoff location for the costliest ride?"
   ]
  },
  {
   "cell_type": "code",
   "execution_count": 17,
   "metadata": {},
   "outputs": [
    {
     "name": "stdout",
     "output_type": "stream",
     "text": [
      "Haversine distance for the costliest ride: 0.0007899213191009994 kilometers\n"
     ]
    }
   ],
   "source": [
    "costliest_ride = df[df['fare_amount'] == df_cleaned['fare_amount'].max()]\n",
    "\n",
    "# Extract the latitude and longitude coordinates for pickup and dropoff\n",
    "pickup_latitude = costliest_ride['pickup_latitude'].values[0]\n",
    "pickup_longitude = costliest_ride['pickup_longitude'].values[0]\n",
    "dropoff_latitude = costliest_ride['dropoff_latitude'].values[0]\n",
    "dropoff_longitude = costliest_ride['dropoff_longitude'].values[0]\n",
    "\n",
    "# Calculate the Haversine distance for the costliest ride\n",
    "haversine_distance_costliest_ride = haversine(pickup_latitude, pickup_longitude, dropoff_latitude, dropoff_longitude)\n",
    "\n",
    "print(\"Haversine distance for the costliest ride:\", haversine_distance_costliest_ride, \"kilometers\")"
   ]
  },
  {
   "cell_type": "markdown",
   "metadata": {},
   "source": [
    "#### Do you sense something fishy? Try to analyze, and give your expert opinion in Jupyter Notebook."
   ]
  },
  {
   "cell_type": "markdown",
   "metadata": {},
   "source": [
    "A Haversine distance of 0.0007899213191009994 kilometers for the costliest ride is exceptionally small, which suggests that there might be an issue or anomaly in the data. It's highly unusual for a ride to have such a short distance while having the highest fare. There could be several reasons for this discrepancy, and further analysis is needed to understand what might have caused this.\n",
    "\n",
    "Here are some possible explanations:\n",
    "\n",
    "1. Data Entry Errors: Check if there are any data entry errors or inconsistencies in the latitude and longitude coordinates for this ride. It's possible that incorrect or default values were recorded for the pickup and dropoff locations.\n",
    "\n",
    "2. Outliers: Examine the 'fare_amount' column to see if there are any outliers or extreme values. Outliers in fare amount can significantly impact the interpretation of this data point.\n",
    "\n",
    "3. Data Quality: Review the data quality and source to ensure that there were no issues with data collection or preprocessing that could have led to this anomaly."
   ]
  },
  {
   "cell_type": "markdown",
   "metadata": {},
   "source": [
    "#### Q13. How many rides were recorded in the year 2014?\n"
   ]
  },
  {
   "cell_type": "code",
   "execution_count": 18,
   "metadata": {},
   "outputs": [
    {
     "name": "stdout",
     "output_type": "stream",
     "text": [
      "Number of rides recorded in the year 2014: 29968\n"
     ]
    },
    {
     "name": "stderr",
     "output_type": "stream",
     "text": [
      "<ipython-input-18-de6c5f767fb0>:1: SettingWithCopyWarning: \n",
      "A value is trying to be set on a copy of a slice from a DataFrame.\n",
      "Try using .loc[row_indexer,col_indexer] = value instead\n",
      "\n",
      "See the caveats in the documentation: https://pandas.pydata.org/pandas-docs/stable/user_guide/indexing.html#returning-a-view-versus-a-copy\n",
      "  df_cleaned['pickup_datetime'] = pd.to_datetime(df_cleaned['pickup_datetime'])\n",
      "<ipython-input-18-de6c5f767fb0>:3: SettingWithCopyWarning: \n",
      "A value is trying to be set on a copy of a slice from a DataFrame.\n",
      "Try using .loc[row_indexer,col_indexer] = value instead\n",
      "\n",
      "See the caveats in the documentation: https://pandas.pydata.org/pandas-docs/stable/user_guide/indexing.html#returning-a-view-versus-a-copy\n",
      "  df_cleaned['pickup_year'] = df_cleaned['pickup_datetime'].dt.year\n"
     ]
    }
   ],
   "source": [
    "df_cleaned['pickup_datetime'] = pd.to_datetime(df_cleaned['pickup_datetime'])\n",
    "\n",
    "df_cleaned['pickup_year'] = df_cleaned['pickup_datetime'].dt.year\n",
    "\n",
    "rides_in_2014 = len(df_cleaned[df_cleaned['pickup_year'] == 2014])\n",
    "\n",
    "print(\"Number of rides recorded in the year 2014:\", rides_in_2014)\n"
   ]
  },
  {
   "cell_type": "markdown",
   "metadata": {},
   "source": [
    "#### Q14. How many rides were recorded in the first quarter of 2014?\n"
   ]
  },
  {
   "cell_type": "code",
   "execution_count": 19,
   "metadata": {},
   "outputs": [
    {
     "name": "stdout",
     "output_type": "stream",
     "text": [
      "Number of rides recorded in the first quarter of 2014: 7687\n"
     ]
    },
    {
     "name": "stderr",
     "output_type": "stream",
     "text": [
      "<ipython-input-19-e69275d9b293>:1: SettingWithCopyWarning: \n",
      "A value is trying to be set on a copy of a slice from a DataFrame.\n",
      "Try using .loc[row_indexer,col_indexer] = value instead\n",
      "\n",
      "See the caveats in the documentation: https://pandas.pydata.org/pandas-docs/stable/user_guide/indexing.html#returning-a-view-versus-a-copy\n",
      "  df_cleaned['pickup_datetime'] = pd.to_datetime(df_cleaned['pickup_datetime'])\n",
      "C:\\Users\\Roshan Bhatia\\anaconda3\\lib\\site-packages\\pandas\\core\\arrays\\datetimes.py:1101: UserWarning: Converting to PeriodArray/Index representation will drop timezone information.\n",
      "  warnings.warn(\n",
      "<ipython-input-19-e69275d9b293>:3: SettingWithCopyWarning: \n",
      "A value is trying to be set on a copy of a slice from a DataFrame.\n",
      "Try using .loc[row_indexer,col_indexer] = value instead\n",
      "\n",
      "See the caveats in the documentation: https://pandas.pydata.org/pandas-docs/stable/user_guide/indexing.html#returning-a-view-versus-a-copy\n",
      "  df_cleaned['pickup_year_quarter'] = df_cleaned['pickup_datetime'].dt.to_period('Q')\n"
     ]
    }
   ],
   "source": [
    "df_cleaned['pickup_datetime'] = pd.to_datetime(df_cleaned['pickup_datetime'])\n",
    "\n",
    "df_cleaned['pickup_year_quarter'] = df_cleaned['pickup_datetime'].dt.to_period('Q')\n",
    "\n",
    "rides_in_Q1_2014 = len(df_cleaned[df_cleaned['pickup_year_quarter'] == '2014Q1'])\n",
    "\n",
    "print(\"Number of rides recorded in the first quarter of 2014:\", rides_in_Q1_2014)\n"
   ]
  },
  {
   "cell_type": "markdown",
   "metadata": {},
   "source": [
    "#### Q15. On which day of the week in September 2010, maximum rides were recorded ?"
   ]
  },
  {
   "cell_type": "code",
   "execution_count": 20,
   "metadata": {},
   "outputs": [
    {
     "name": "stdout",
     "output_type": "stream",
     "text": [
      "Day of the week in September 2010 with the maximum number of rides: Thursday\n"
     ]
    },
    {
     "name": "stderr",
     "output_type": "stream",
     "text": [
      "<ipython-input-20-d692edd054f2>:1: SettingWithCopyWarning: \n",
      "A value is trying to be set on a copy of a slice from a DataFrame.\n",
      "Try using .loc[row_indexer,col_indexer] = value instead\n",
      "\n",
      "See the caveats in the documentation: https://pandas.pydata.org/pandas-docs/stable/user_guide/indexing.html#returning-a-view-versus-a-copy\n",
      "  df_cleaned['pickup_datetime'] = pd.to_datetime(df_cleaned['pickup_datetime'])\n"
     ]
    }
   ],
   "source": [
    "df_cleaned['pickup_datetime'] = pd.to_datetime(df_cleaned['pickup_datetime'])\n",
    "\n",
    "rides_in_september_2010 = df_cleaned[(df_cleaned['pickup_datetime'].dt.year == 2010) & (df_cleaned['pickup_datetime'].dt.month == 9)]\n",
    "\n",
    "day_of_week_counts = rides_in_september_2010['pickup_datetime'].dt.day_name().value_counts()\n",
    "\n",
    "max_rides_day = day_of_week_counts.idxmax()\n",
    "max_rides_count = day_of_week_counts.max()\n",
    "\n",
    "print(\"Day of the week in September 2010 with the maximum number of rides:\", max_rides_day)\n"
   ]
  },
  {
   "cell_type": "markdown",
   "metadata": {},
   "source": [
    "#### Q16. Apply a Machine Learning Algorithm to predict the fare amount given following input features:passenger_count, distance and ride_week_day."
   ]
  },
  {
   "cell_type": "markdown",
   "metadata": {},
   "source": [
    "#### Perform a 70-30 split of data.Which algorithm gives the least adjusted R square value?"
   ]
  },
  {
   "cell_type": "code",
   "execution_count": 34,
   "metadata": {},
   "outputs": [
    {
     "name": "stderr",
     "output_type": "stream",
     "text": [
      "<ipython-input-34-c327c8be4a0b>:1: SettingWithCopyWarning: \n",
      "A value is trying to be set on a copy of a slice from a DataFrame.\n",
      "Try using .loc[row_indexer,col_indexer] = value instead\n",
      "\n",
      "See the caveats in the documentation: https://pandas.pydata.org/pandas-docs/stable/user_guide/indexing.html#returning-a-view-versus-a-copy\n",
      "  df_cleaned['ride_week_day'] = pd.to_datetime(df_cleaned['pickup_datetime']).dt.day_name()\n"
     ]
    }
   ],
   "source": [
    "df_cleaned['ride_week_day'] = pd.to_datetime(df_cleaned['pickup_datetime']).dt.day_name()"
   ]
  },
  {
   "cell_type": "code",
   "execution_count": 45,
   "metadata": {},
   "outputs": [],
   "source": [
    "from sklearn.model_selection import train_test_split\n",
    "from sklearn.linear_model import LinearRegression\n",
    "from sklearn.tree import DecisionTreeRegressor\n",
    "from sklearn.ensemble import RandomForestRegressor\n",
    "from sklearn.neighbors import KNeighborsRegressor\n",
    "from sklearn.metrics import r2_score, mean_squared_error"
   ]
  },
  {
   "cell_type": "code",
   "execution_count": 46,
   "metadata": {},
   "outputs": [],
   "source": [
    "df_encoded = pd.get_dummies(df_cleaned, columns=['ride_week_day'])\n",
    "\n",
    "X = df_encoded[['passenger_count', 'haversine_distance', 'ride_week_day_Friday', 'ride_week_day_Monday', 'ride_week_day_Saturday', 'ride_week_day_Sunday', 'ride_week_day_Thursday', 'ride_week_day_Tuesday']]\n",
    "y = df_encoded['fare_amount']\n",
    "\n",
    "X_train, X_test, y_train, y_test = train_test_split(X, y, test_size=0.3, random_state=42)\n",
    "\n",
    "models = {\n",
    "    'Linear Regression': LinearRegression(),\n",
    "    'Decision Tree Regressor': DecisionTreeRegressor(),\n",
    "    'Random Forest Regressor': RandomForestRegressor(),\n",
    "    'K-Nearest Neighbors Regressor': KNeighborsRegressor()\n",
    "}"
   ]
  },
  {
   "cell_type": "code",
   "execution_count": 47,
   "metadata": {},
   "outputs": [],
   "source": [
    "adjusted_r2_values = {}\n",
    "\n",
    "for model_name, model in models.items():\n",
    "    model.fit(X_train, y_train)\n",
    "    y_pred = model.predict(X_test)\n",
    "    \n",
    "    n = len(X_test)\n",
    "    p = X_test.shape[1]\n",
    "    r2 = r2_score(y_test, y_pred)\n",
    "    \n",
    "    adjusted_r2 = 1 - (1 - r2) * ((n - 1) / (n - p - 1))\n",
    "    adjusted_r2_values[model_name] = adjusted_r2"
   ]
  },
  {
   "cell_type": "code",
   "execution_count": 48,
   "metadata": {},
   "outputs": [
    {
     "name": "stdout",
     "output_type": "stream",
     "text": [
      "Adjusted R-squared values:\n",
      "Linear Regression: 0.0006\n",
      "Decision Tree Regressor: 0.4746\n",
      "Random Forest Regressor: 0.6259\n",
      "K-Nearest Neighbors Regressor: 0.6340\n",
      "The model with the least adjusted R-squared value is Linear Regression with adjusted R-squared = 0.0006\n"
     ]
    }
   ],
   "source": [
    "min_adjusted_r2_model = min(adjusted_r2_values, key=adjusted_r2_values.get)\n",
    "min_adjusted_r2_value = adjusted_r2_values[min_adjusted_r2_model]\n",
    "\n",
    "print(\"Adjusted R-squared values:\")\n",
    "for model_name, adjusted_r2 in adjusted_r2_values.items():\n",
    "    print(f\"{model_name}: {adjusted_r2:.4f}\")\n",
    "\n",
    "print(f\"The model with the least adjusted R-squared value is {min_adjusted_r2_model} with adjusted R-squared = {min_adjusted_r2_value:.4f}\")"
   ]
  },
  {
   "cell_type": "code",
   "execution_count": null,
   "metadata": {},
   "outputs": [],
   "source": []
  }
 ],
 "metadata": {
  "kernelspec": {
   "display_name": "Python 3",
   "language": "python",
   "name": "python3"
  },
  "language_info": {
   "codemirror_mode": {
    "name": "ipython",
    "version": 3
   },
   "file_extension": ".py",
   "mimetype": "text/x-python",
   "name": "python",
   "nbconvert_exporter": "python",
   "pygments_lexer": "ipython3",
   "version": "3.8.3"
  }
 },
 "nbformat": 4,
 "nbformat_minor": 4
}
